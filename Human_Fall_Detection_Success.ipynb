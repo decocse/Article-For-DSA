{
  "cells": [
    {
      "cell_type": "markdown",
      "metadata": {
        "id": "view-in-github",
        "colab_type": "text"
      },
      "source": [
        "<a href=\"https://colab.research.google.com/github/decocse/Article-For-DSA/blob/main/Human_Fall_Detection_Success.ipynb\" target=\"_parent\"><img src=\"https://colab.research.google.com/assets/colab-badge.svg\" alt=\"Open In Colab\"/></a>"
      ]
    },
    {
      "cell_type": "code",
      "source": [
        "from google.colab import drive\n",
        "drive.mount('/content/drive')"
      ],
      "metadata": {
        "id": "T7-eP_Lo5N_T",
        "outputId": "30f16a64-3132-4618-b6e8-b1be29317a5e",
        "colab": {
          "base_uri": "https://localhost:8080/"
        }
      },
      "execution_count": null,
      "outputs": [
        {
          "output_type": "stream",
          "name": "stdout",
          "text": [
            "Mounted at /content/drive\n"
          ]
        }
      ]
    },
    {
      "cell_type": "code",
      "source": [
        "Human_fall_train='/content/drive/MyDrive/Fall_detection/mobi_fall_train.csv'\n",
        "Human_fall_test='/content/drive/MyDrive/Fall_detection/mobi_fall_test.csv'"
      ],
      "metadata": {
        "id": "m1bsP2Yz5uFz"
      },
      "execution_count": null,
      "outputs": []
    },
    {
      "cell_type": "code",
      "source": [
        "import numpy as np\n",
        "import pandas as pd\n",
        "from keras.models import Sequential\n",
        "from keras.layers import LSTM, Dense"
      ],
      "metadata": {
        "id": "cuvS4PDK6B2j"
      },
      "execution_count": null,
      "outputs": []
    },
    {
      "cell_type": "code",
      "source": [
        "train_data = pd.read_csv(Human_fall_train)\n",
        "test_data = pd.read_csv(Human_fall_test)\n"
      ],
      "metadata": {
        "id": "u7rqrYfE6GzM"
      },
      "execution_count": null,
      "outputs": []
    },
    {
      "cell_type": "code",
      "source": [
        "X_train, y_train = train_data[['acc_x', 'acc_y', 'acc_z']].values, train_data['label'].values\n",
        "X_test, y_test = test_data[['acc_x', 'acc_y', 'acc_z']].values, test_data['label'].values"
      ],
      "metadata": {
        "id": "SfdlhZDs68AF"
      },
      "execution_count": null,
      "outputs": []
    },
    {
      "cell_type": "code",
      "source": [
        "X_train = X_train.reshape((X_train.shape[0], 1, X_train.shape[1]))\n",
        "X_test = X_test.reshape((X_test.shape[0], 1, X_test.shape[1]))\n"
      ],
      "metadata": {
        "id": "kabyIRBD74uT"
      },
      "execution_count": null,
      "outputs": []
    },
    {
      "cell_type": "code",
      "source": [
        "model = Sequential()\n",
        "model.add(LSTM(50, input_shape=(X_train.shape[1], X_train.shape[2])))\n",
        "model.add(Dense(1, activation='sigmoid'))\n",
        "model.compile(loss='binary_crossentropy', optimizer='adam', metrics=['accuracy'])"
      ],
      "metadata": {
        "id": "YVmNfSAy78TM"
      },
      "execution_count": null,
      "outputs": []
    },
    {
      "cell_type": "code",
      "source": [
        "history = model.fit(X_train, y_train, epochs=50, batch_size=32, validation_data=(X_test, y_test), verbose=2, shuffle=False)"
      ],
      "metadata": {
        "id": "9by8J_OV8Auz",
        "outputId": "f88e3f5a-c34c-4e5a-e3c9-7c220cfef026",
        "colab": {
          "base_uri": "https://localhost:8080/"
        }
      },
      "execution_count": null,
      "outputs": [
        {
          "output_type": "stream",
          "name": "stdout",
          "text": [
            "Epoch 1/50\n",
            "9375/9375 - 48s - loss: 0.4945 - accuracy: 0.7731 - val_loss: 0.5044 - val_accuracy: 0.7816 - 48s/epoch - 5ms/step\n",
            "Epoch 2/50\n",
            "9375/9375 - 33s - loss: 0.4644 - accuracy: 0.8098 - val_loss: 0.5180 - val_accuracy: 0.7507 - 33s/epoch - 3ms/step\n",
            "Epoch 3/50\n",
            "9375/9375 - 32s - loss: 0.4580 - accuracy: 0.8096 - val_loss: 0.5384 - val_accuracy: 0.7464 - 32s/epoch - 3ms/step\n",
            "Epoch 4/50\n",
            "9375/9375 - 31s - loss: 0.4519 - accuracy: 0.8116 - val_loss: 0.5480 - val_accuracy: 0.7442 - 31s/epoch - 3ms/step\n",
            "Epoch 5/50\n",
            "9375/9375 - 33s - loss: 0.4473 - accuracy: 0.8160 - val_loss: 0.5539 - val_accuracy: 0.7404 - 33s/epoch - 3ms/step\n",
            "Epoch 6/50\n",
            "9375/9375 - 31s - loss: 0.4437 - accuracy: 0.8173 - val_loss: 0.5511 - val_accuracy: 0.7411 - 31s/epoch - 3ms/step\n",
            "Epoch 7/50\n",
            "9375/9375 - 33s - loss: 0.4402 - accuracy: 0.8180 - val_loss: 0.5550 - val_accuracy: 0.7429 - 33s/epoch - 3ms/step\n",
            "Epoch 8/50\n",
            "9375/9375 - 31s - loss: 0.4382 - accuracy: 0.8178 - val_loss: 0.5601 - val_accuracy: 0.7430 - 31s/epoch - 3ms/step\n",
            "Epoch 9/50\n",
            "9375/9375 - 31s - loss: 0.4358 - accuracy: 0.8193 - val_loss: 0.5591 - val_accuracy: 0.7453 - 31s/epoch - 3ms/step\n",
            "Epoch 10/50\n",
            "9375/9375 - 33s - loss: 0.4331 - accuracy: 0.8210 - val_loss: 0.5523 - val_accuracy: 0.7476 - 33s/epoch - 3ms/step\n",
            "Epoch 11/50\n",
            "9375/9375 - 31s - loss: 0.4299 - accuracy: 0.8230 - val_loss: 0.5592 - val_accuracy: 0.7501 - 31s/epoch - 3ms/step\n",
            "Epoch 12/50\n",
            "9375/9375 - 31s - loss: 0.4287 - accuracy: 0.8234 - val_loss: 0.5491 - val_accuracy: 0.7523 - 31s/epoch - 3ms/step\n",
            "Epoch 13/50\n",
            "9375/9375 - 32s - loss: 0.4262 - accuracy: 0.8256 - val_loss: 0.5430 - val_accuracy: 0.7538 - 32s/epoch - 3ms/step\n",
            "Epoch 14/50\n",
            "9375/9375 - 31s - loss: 0.4236 - accuracy: 0.8263 - val_loss: 0.5437 - val_accuracy: 0.7549 - 31s/epoch - 3ms/step\n",
            "Epoch 15/50\n",
            "9375/9375 - 33s - loss: 0.4203 - accuracy: 0.8282 - val_loss: 0.5379 - val_accuracy: 0.7560 - 33s/epoch - 3ms/step\n",
            "Epoch 16/50\n",
            "9375/9375 - 31s - loss: 0.4166 - accuracy: 0.8306 - val_loss: 0.5300 - val_accuracy: 0.7579 - 31s/epoch - 3ms/step\n",
            "Epoch 17/50\n",
            "9375/9375 - 33s - loss: 0.4137 - accuracy: 0.8318 - val_loss: 0.5280 - val_accuracy: 0.7601 - 33s/epoch - 3ms/step\n",
            "Epoch 18/50\n",
            "9375/9375 - 33s - loss: 0.4106 - accuracy: 0.8341 - val_loss: 0.5224 - val_accuracy: 0.7655 - 33s/epoch - 4ms/step\n",
            "Epoch 19/50\n",
            "9375/9375 - 31s - loss: 0.4078 - accuracy: 0.8363 - val_loss: 0.5213 - val_accuracy: 0.7677 - 31s/epoch - 3ms/step\n",
            "Epoch 20/50\n",
            "9375/9375 - 32s - loss: 0.4048 - accuracy: 0.8378 - val_loss: 0.5249 - val_accuracy: 0.7656 - 32s/epoch - 3ms/step\n",
            "Epoch 21/50\n",
            "9375/9375 - 31s - loss: 0.4013 - accuracy: 0.8393 - val_loss: 0.5336 - val_accuracy: 0.7653 - 31s/epoch - 3ms/step\n",
            "Epoch 22/50\n",
            "9375/9375 - 32s - loss: 0.3986 - accuracy: 0.8398 - val_loss: 0.5411 - val_accuracy: 0.7632 - 32s/epoch - 3ms/step\n",
            "Epoch 23/50\n",
            "9375/9375 - 31s - loss: 0.3966 - accuracy: 0.8417 - val_loss: 0.5436 - val_accuracy: 0.7651 - 31s/epoch - 3ms/step\n",
            "Epoch 24/50\n",
            "9375/9375 - 31s - loss: 0.3934 - accuracy: 0.8427 - val_loss: 0.5428 - val_accuracy: 0.7668 - 31s/epoch - 3ms/step\n",
            "Epoch 25/50\n",
            "9375/9375 - 32s - loss: 0.3897 - accuracy: 0.8445 - val_loss: 0.5425 - val_accuracy: 0.7685 - 32s/epoch - 3ms/step\n",
            "Epoch 26/50\n",
            "9375/9375 - 33s - loss: 0.3871 - accuracy: 0.8458 - val_loss: 0.5471 - val_accuracy: 0.7676 - 33s/epoch - 3ms/step\n",
            "Epoch 27/50\n",
            "9375/9375 - 32s - loss: 0.3851 - accuracy: 0.8467 - val_loss: 0.5487 - val_accuracy: 0.7677 - 32s/epoch - 3ms/step\n",
            "Epoch 28/50\n",
            "9375/9375 - 31s - loss: 0.3831 - accuracy: 0.8467 - val_loss: 0.5496 - val_accuracy: 0.7691 - 31s/epoch - 3ms/step\n",
            "Epoch 29/50\n",
            "9375/9375 - 33s - loss: 0.3811 - accuracy: 0.8473 - val_loss: 0.5481 - val_accuracy: 0.7764 - 33s/epoch - 4ms/step\n",
            "Epoch 30/50\n",
            "9375/9375 - 33s - loss: 0.3790 - accuracy: 0.8479 - val_loss: 0.5442 - val_accuracy: 0.7745 - 33s/epoch - 3ms/step\n",
            "Epoch 31/50\n",
            "9375/9375 - 31s - loss: 0.3771 - accuracy: 0.8489 - val_loss: 0.5421 - val_accuracy: 0.7681 - 31s/epoch - 3ms/step\n",
            "Epoch 32/50\n",
            "9375/9375 - 31s - loss: 0.3753 - accuracy: 0.8498 - val_loss: 0.5383 - val_accuracy: 0.7654 - 31s/epoch - 3ms/step\n",
            "Epoch 33/50\n",
            "9375/9375 - 32s - loss: 0.3734 - accuracy: 0.8509 - val_loss: 0.5427 - val_accuracy: 0.7567 - 32s/epoch - 3ms/step\n",
            "Epoch 34/50\n",
            "9375/9375 - 31s - loss: 0.3716 - accuracy: 0.8515 - val_loss: 0.5477 - val_accuracy: 0.7464 - 31s/epoch - 3ms/step\n",
            "Epoch 35/50\n",
            "9375/9375 - 32s - loss: 0.3700 - accuracy: 0.8519 - val_loss: 0.5521 - val_accuracy: 0.7467 - 32s/epoch - 3ms/step\n",
            "Epoch 36/50\n",
            "9375/9375 - 33s - loss: 0.3683 - accuracy: 0.8523 - val_loss: 0.5535 - val_accuracy: 0.7471 - 33s/epoch - 3ms/step\n",
            "Epoch 37/50\n",
            "9375/9375 - 31s - loss: 0.3669 - accuracy: 0.8527 - val_loss: 0.5550 - val_accuracy: 0.7491 - 31s/epoch - 3ms/step\n",
            "Epoch 38/50\n",
            "9375/9375 - 33s - loss: 0.3659 - accuracy: 0.8532 - val_loss: 0.5574 - val_accuracy: 0.7509 - 33s/epoch - 4ms/step\n",
            "Epoch 39/50\n",
            "9375/9375 - 33s - loss: 0.3644 - accuracy: 0.8538 - val_loss: 0.5596 - val_accuracy: 0.7497 - 33s/epoch - 4ms/step\n",
            "Epoch 40/50\n",
            "9375/9375 - 33s - loss: 0.3628 - accuracy: 0.8547 - val_loss: 0.5633 - val_accuracy: 0.7508 - 33s/epoch - 3ms/step\n",
            "Epoch 41/50\n",
            "9375/9375 - 33s - loss: 0.3611 - accuracy: 0.8558 - val_loss: 0.5633 - val_accuracy: 0.7526 - 33s/epoch - 3ms/step\n",
            "Epoch 42/50\n",
            "9375/9375 - 32s - loss: 0.3601 - accuracy: 0.8572 - val_loss: 0.5620 - val_accuracy: 0.7544 - 32s/epoch - 3ms/step\n",
            "Epoch 43/50\n",
            "9375/9375 - 33s - loss: 0.3589 - accuracy: 0.8581 - val_loss: 0.5617 - val_accuracy: 0.7562 - 33s/epoch - 4ms/step\n",
            "Epoch 44/50\n",
            "9375/9375 - 32s - loss: 0.3578 - accuracy: 0.8582 - val_loss: 0.5604 - val_accuracy: 0.7624 - 32s/epoch - 3ms/step\n",
            "Epoch 45/50\n",
            "9375/9375 - 32s - loss: 0.3564 - accuracy: 0.8591 - val_loss: 0.5561 - val_accuracy: 0.7663 - 32s/epoch - 3ms/step\n",
            "Epoch 46/50\n",
            "9375/9375 - 31s - loss: 0.3552 - accuracy: 0.8596 - val_loss: 0.5557 - val_accuracy: 0.7641 - 31s/epoch - 3ms/step\n",
            "Epoch 47/50\n",
            "9375/9375 - 31s - loss: 0.3543 - accuracy: 0.8602 - val_loss: 0.5543 - val_accuracy: 0.7645 - 31s/epoch - 3ms/step\n",
            "Epoch 48/50\n",
            "9375/9375 - 32s - loss: 0.3535 - accuracy: 0.8606 - val_loss: 0.5509 - val_accuracy: 0.7657 - 32s/epoch - 3ms/step\n",
            "Epoch 49/50\n",
            "9375/9375 - 32s - loss: 0.3525 - accuracy: 0.8612 - val_loss: 0.5488 - val_accuracy: 0.7667 - 32s/epoch - 3ms/step\n",
            "Epoch 50/50\n",
            "9375/9375 - 31s - loss: 0.3516 - accuracy: 0.8618 - val_loss: 0.5471 - val_accuracy: 0.7670 - 31s/epoch - 3ms/step\n"
          ]
        }
      ]
    },
    {
      "cell_type": "code",
      "source": [
        "_, accuracy = model.evaluate(X_test, y_test, batch_size=32, verbose=0)"
      ],
      "metadata": {
        "id": "vjxNYg_vCjV0"
      },
      "execution_count": null,
      "outputs": []
    },
    {
      "cell_type": "code",
      "source": [
        "print('Accuracy: %.2f%%' % (accuracy*100))"
      ],
      "metadata": {
        "id": "GJiZByKeCoey",
        "outputId": "20177878-59bc-4a9f-f6bc-d66dc443b5aa",
        "colab": {
          "base_uri": "https://localhost:8080/"
        }
      },
      "execution_count": null,
      "outputs": [
        {
          "output_type": "stream",
          "name": "stdout",
          "text": [
            "Accuracy: 76.70%\n"
          ]
        }
      ]
    },
    {
      "cell_type": "code",
      "source": [
        "import pandas as pd\n",
        "import numpy as np\n",
        "from keras.models import Sequential\n",
        "from keras.layers import LSTM, Dense\n",
        "\n",
        "# Load train dataset\n",
        "train_data = pd.read_csv(Human_fall_train)\n",
        "\n",
        "# Split train data into features and labels\n",
        "X_train, y_train = train_data[['acc_x', 'acc_y', 'acc_z']].values, train_data['label'].values\n",
        "\n",
        "# Reshape train data for LSTM input\n",
        "X_train = X_train.reshape((X_train.shape[0], 1, X_train.shape[1]))\n",
        "\n",
        "# Define LSTM model\n",
        "model = Sequential()\n",
        "model.add(LSTM(50, input_shape=(X_train.shape[1], X_train.shape[2])))\n",
        "model.add(Dense(1, activation='sigmoid'))\n",
        "model.compile(loss='binary_crossentropy', optimizer='adam', metrics=['accuracy'])\n",
        "\n",
        "# Train LSTM model\n",
        "model.fit(X_train, y_train, epochs=50, batch_size=32, verbose=2, shuffle=False)\n",
        "\n"
      ],
      "metadata": {
        "id": "p7F6BFD4DBG6",
        "outputId": "a7c356d6-311a-4531-e236-62e7ddacb796",
        "colab": {
          "base_uri": "https://localhost:8080/"
        }
      },
      "execution_count": null,
      "outputs": [
        {
          "output_type": "stream",
          "name": "stdout",
          "text": [
            "Epoch 1/50\n",
            "9375/9375 - 32s - loss: 0.5011 - accuracy: 0.7661 - 32s/epoch - 3ms/step\n",
            "Epoch 2/50\n",
            "9375/9375 - 27s - loss: 0.4665 - accuracy: 0.8093 - 27s/epoch - 3ms/step\n",
            "Epoch 3/50\n",
            "9375/9375 - 28s - loss: 0.4562 - accuracy: 0.8120 - 28s/epoch - 3ms/step\n",
            "Epoch 4/50\n",
            "9375/9375 - 28s - loss: 0.4496 - accuracy: 0.8165 - 28s/epoch - 3ms/step\n",
            "Epoch 5/50\n",
            "9375/9375 - 28s - loss: 0.4455 - accuracy: 0.8175 - 28s/epoch - 3ms/step\n",
            "Epoch 6/50\n",
            "9375/9375 - 27s - loss: 0.4419 - accuracy: 0.8181 - 27s/epoch - 3ms/step\n",
            "Epoch 7/50\n",
            "9375/9375 - 28s - loss: 0.4392 - accuracy: 0.8188 - 28s/epoch - 3ms/step\n",
            "Epoch 8/50\n",
            "9375/9375 - 27s - loss: 0.4363 - accuracy: 0.8207 - 27s/epoch - 3ms/step\n",
            "Epoch 9/50\n",
            "9375/9375 - 27s - loss: 0.4343 - accuracy: 0.8209 - 27s/epoch - 3ms/step\n",
            "Epoch 10/50\n",
            "9375/9375 - 27s - loss: 0.4327 - accuracy: 0.8225 - 27s/epoch - 3ms/step\n",
            "Epoch 11/50\n",
            "9375/9375 - 27s - loss: 0.4294 - accuracy: 0.8235 - 27s/epoch - 3ms/step\n",
            "Epoch 12/50\n",
            "9375/9375 - 28s - loss: 0.4272 - accuracy: 0.8254 - 28s/epoch - 3ms/step\n",
            "Epoch 13/50\n",
            "9375/9375 - 28s - loss: 0.4255 - accuracy: 0.8271 - 28s/epoch - 3ms/step\n",
            "Epoch 14/50\n",
            "9375/9375 - 27s - loss: 0.4234 - accuracy: 0.8283 - 27s/epoch - 3ms/step\n",
            "Epoch 15/50\n",
            "9375/9375 - 28s - loss: 0.4212 - accuracy: 0.8301 - 28s/epoch - 3ms/step\n",
            "Epoch 16/50\n",
            "9375/9375 - 28s - loss: 0.4183 - accuracy: 0.8321 - 28s/epoch - 3ms/step\n",
            "Epoch 17/50\n",
            "9375/9375 - 27s - loss: 0.4169 - accuracy: 0.8337 - 27s/epoch - 3ms/step\n",
            "Epoch 18/50\n",
            "9375/9375 - 27s - loss: 0.4150 - accuracy: 0.8341 - 27s/epoch - 3ms/step\n",
            "Epoch 19/50\n",
            "9375/9375 - 27s - loss: 0.4138 - accuracy: 0.8350 - 27s/epoch - 3ms/step\n",
            "Epoch 20/50\n",
            "9375/9375 - 27s - loss: 0.4113 - accuracy: 0.8355 - 27s/epoch - 3ms/step\n",
            "Epoch 21/50\n",
            "9375/9375 - 27s - loss: 0.4104 - accuracy: 0.8352 - 27s/epoch - 3ms/step\n",
            "Epoch 22/50\n",
            "9375/9375 - 27s - loss: 0.4083 - accuracy: 0.8365 - 27s/epoch - 3ms/step\n",
            "Epoch 23/50\n",
            "9375/9375 - 27s - loss: 0.4063 - accuracy: 0.8370 - 27s/epoch - 3ms/step\n",
            "Epoch 24/50\n",
            "9375/9375 - 27s - loss: 0.4045 - accuracy: 0.8377 - 27s/epoch - 3ms/step\n",
            "Epoch 25/50\n",
            "9375/9375 - 27s - loss: 0.4021 - accuracy: 0.8385 - 27s/epoch - 3ms/step\n",
            "Epoch 26/50\n",
            "9375/9375 - 27s - loss: 0.3991 - accuracy: 0.8397 - 27s/epoch - 3ms/step\n",
            "Epoch 27/50\n",
            "9375/9375 - 28s - loss: 0.3969 - accuracy: 0.8408 - 28s/epoch - 3ms/step\n",
            "Epoch 28/50\n",
            "9375/9375 - 28s - loss: 0.3947 - accuracy: 0.8422 - 28s/epoch - 3ms/step\n",
            "Epoch 29/50\n",
            "9375/9375 - 27s - loss: 0.3938 - accuracy: 0.8424 - 27s/epoch - 3ms/step\n",
            "Epoch 30/50\n",
            "9375/9375 - 27s - loss: 0.3932 - accuracy: 0.8426 - 27s/epoch - 3ms/step\n",
            "Epoch 31/50\n",
            "9375/9375 - 27s - loss: 0.3932 - accuracy: 0.8423 - 27s/epoch - 3ms/step\n",
            "Epoch 32/50\n",
            "9375/9375 - 27s - loss: 0.3913 - accuracy: 0.8434 - 27s/epoch - 3ms/step\n",
            "Epoch 33/50\n",
            "9375/9375 - 27s - loss: 0.3886 - accuracy: 0.8454 - 27s/epoch - 3ms/step\n",
            "Epoch 34/50\n",
            "9375/9375 - 27s - loss: 0.3843 - accuracy: 0.8477 - 27s/epoch - 3ms/step\n",
            "Epoch 35/50\n",
            "9375/9375 - 27s - loss: 0.3819 - accuracy: 0.8484 - 27s/epoch - 3ms/step\n",
            "Epoch 36/50\n",
            "9375/9375 - 27s - loss: 0.3806 - accuracy: 0.8497 - 27s/epoch - 3ms/step\n",
            "Epoch 37/50\n",
            "9375/9375 - 27s - loss: 0.3797 - accuracy: 0.8502 - 27s/epoch - 3ms/step\n",
            "Epoch 38/50\n",
            "9375/9375 - 27s - loss: 0.3783 - accuracy: 0.8517 - 27s/epoch - 3ms/step\n",
            "Epoch 39/50\n",
            "9375/9375 - 28s - loss: 0.3762 - accuracy: 0.8530 - 28s/epoch - 3ms/step\n",
            "Epoch 40/50\n",
            "9375/9375 - 27s - loss: 0.3752 - accuracy: 0.8532 - 27s/epoch - 3ms/step\n",
            "Epoch 41/50\n",
            "9375/9375 - 27s - loss: 0.3744 - accuracy: 0.8536 - 27s/epoch - 3ms/step\n",
            "Epoch 42/50\n",
            "9375/9375 - 27s - loss: 0.3732 - accuracy: 0.8538 - 27s/epoch - 3ms/step\n",
            "Epoch 43/50\n",
            "9375/9375 - 28s - loss: 0.3718 - accuracy: 0.8541 - 28s/epoch - 3ms/step\n",
            "Epoch 44/50\n",
            "9375/9375 - 28s - loss: 0.3704 - accuracy: 0.8544 - 28s/epoch - 3ms/step\n",
            "Epoch 45/50\n",
            "9375/9375 - 28s - loss: 0.3689 - accuracy: 0.8548 - 28s/epoch - 3ms/step\n",
            "Epoch 46/50\n",
            "9375/9375 - 27s - loss: 0.3681 - accuracy: 0.8551 - 27s/epoch - 3ms/step\n",
            "Epoch 47/50\n",
            "9375/9375 - 27s - loss: 0.3673 - accuracy: 0.8555 - 27s/epoch - 3ms/step\n",
            "Epoch 48/50\n",
            "9375/9375 - 27s - loss: 0.3665 - accuracy: 0.8557 - 27s/epoch - 3ms/step\n",
            "Epoch 49/50\n",
            "9375/9375 - 27s - loss: 0.3653 - accuracy: 0.8561 - 27s/epoch - 3ms/step\n",
            "Epoch 50/50\n",
            "9375/9375 - 27s - loss: 0.3641 - accuracy: 0.8563 - 27s/epoch - 3ms/step\n"
          ]
        },
        {
          "output_type": "execute_result",
          "data": {
            "text/plain": [
              "<keras.callbacks.History at 0x7f074df57670>"
            ]
          },
          "metadata": {},
          "execution_count": 17
        }
      ]
    },
    {
      "cell_type": "code",
      "source": [
        "new_data = np.array([[0.5, -0.3, 0.2], [0.1, 0.4, -0.2]])\n",
        "new_data = new_data.reshape((new_data.shape[0], 1, new_data.shape[1]))\n"
      ],
      "metadata": {
        "id": "PI-BmzSpJTUx"
      },
      "execution_count": null,
      "outputs": []
    },
    {
      "cell_type": "code",
      "source": [
        "predictions = model.predict(new_data)"
      ],
      "metadata": {
        "id": "HnMIwx7wJY_J",
        "outputId": "abc6c9e7-c7eb-4a4f-d1b8-06459b19e951",
        "colab": {
          "base_uri": "https://localhost:8080/"
        }
      },
      "execution_count": null,
      "outputs": [
        {
          "output_type": "stream",
          "name": "stdout",
          "text": [
            "1/1 [==============================] - 0s 375ms/step\n"
          ]
        }
      ]
    },
    {
      "cell_type": "code",
      "source": [
        "print(predictions)"
      ],
      "metadata": {
        "id": "qsqo3bZuJbbi",
        "outputId": "40bc3d6c-4be0-4405-d9c7-436d7100552f",
        "colab": {
          "base_uri": "https://localhost:8080/"
        }
      },
      "execution_count": null,
      "outputs": [
        {
          "output_type": "stream",
          "name": "stdout",
          "text": [
            "[[0.9680963 ]\n",
            " [0.98128027]]\n"
          ]
        }
      ]
    },
    {
      "cell_type": "code",
      "source": [
        "new_data = np.array([[1.31E+12,1.731473,9.91894,0.088602],[1.31E+12,1.728073,9.914292,0.075843]])\n",
        "new_data = new_data.reshape((new_data.shape[0], 1, new_data.shape[1]))"
      ],
      "metadata": {
        "id": "Oq0fBaJEJq9J"
      },
      "execution_count": null,
      "outputs": []
    },
    {
      "cell_type": "code",
      "source": [
        "predictions = model.predict(new_data)"
      ],
      "metadata": {
        "id": "HJzPJJrKKbmr",
        "outputId": "beb777fb-989b-4799-eb31-854c1b8a8411",
        "colab": {
          "base_uri": "https://localhost:8080/"
        }
      },
      "execution_count": null,
      "outputs": [
        {
          "output_type": "stream",
          "name": "stdout",
          "text": [
            "1/1 [==============================] - 0s 318ms/step\n"
          ]
        }
      ]
    },
    {
      "cell_type": "code",
      "source": [
        "print(predictions)"
      ],
      "metadata": {
        "id": "q4byju20KgkD",
        "outputId": "76444c73-e3b8-4bde-e002-5a37f040781f",
        "colab": {
          "base_uri": "https://localhost:8080/"
        }
      },
      "execution_count": null,
      "outputs": [
        {
          "output_type": "stream",
          "name": "stdout",
          "text": [
            "[[0.01911224]\n",
            " [0.01911224]]\n"
          ]
        }
      ]
    }
  ],
  "metadata": {
    "colab": {
      "provenance": [],
      "include_colab_link": true
    },
    "kernelspec": {
      "display_name": "Python 3",
      "name": "python3"
    },
    "accelerator": "GPU",
    "gpuClass": "standard"
  },
  "nbformat": 4,
  "nbformat_minor": 0
}